{
 "cells": [
  {
   "cell_type": "markdown",
   "id": "0a6b481b-de16-40a7-89ee-4fd574373694",
   "metadata": {},
   "source": [
    "#### Libraries Used:\n",
    "In this project, we use several essential libraries to build our web scraper and deploy it with Flask:\n",
    "\n",
    "__1. Flask:__ A micro web framework used to build the web application and manage API routes. __render_template__ helps in rendering dynamic web pages, while __request__ and __jsonify__ handle incoming requests and send __JSON__ responses.\n",
    "\n",
    "__2. flask_cors:__ A library to manage Cross-Origin Resource Sharing (CORS), enabling requests from different domains to interact with our Flask app.\n",
    "\n",
    "__3. requests:__ Used to send HTTP requests to fetch the HTML content of the target website for scraping.\n",
    "\n",
    "__4. BeautifulSoup:__ A powerful library used for parsing and navigating through the HTML structure of web pages to extract the desired data.\n",
    "\n",
    "__5. urllib.request:__ A standard Python library used for opening and reading URLs, an alternative to requests for fetching web content."
   ]
  },
  {
   "cell_type": "code",
   "execution_count": 2,
   "id": "cfe32ea2-daef-4d4e-b029-54cfd5898db1",
   "metadata": {
    "jp-MarkdownHeadingCollapsed": true
   },
   "outputs": [],
   "source": [
    "# import all required libraries\n",
    "from flask import Flask, render_template, request, jsonify\n",
    "from flask_cors import CORS, cross_origin\n",
    "import requests\n",
    "from bs4 import BeautifulSoup as bs\n",
    "from urllib.request import urlopen as uReq"
   ]
  },
  {
   "cell_type": "code",
   "execution_count": 23,
   "id": "85a46cb0-869a-45ec-9a96-3fca10ec871a",
   "metadata": {},
   "outputs": [],
   "source": [
    "# search text what want to search\n",
    "searchstring = \"iphone11\""
   ]
  },
  {
   "cell_type": "code",
   "execution_count": 24,
   "id": "1bf7b15d-a14f-40e3-8cec-0d5c55929637",
   "metadata": {},
   "outputs": [],
   "source": [
    "# add search string with main URL to redirect to that search item\n",
    "flipkart_url = \"https://www.flipkart.com/search?q=\" + searchstring"
   ]
  },
  {
   "cell_type": "code",
   "execution_count": 25,
   "id": "b655a841-8490-413d-9983-faad7d9f7bdf",
   "metadata": {},
   "outputs": [
    {
     "data": {
      "text/plain": [
       "'https://www.flipkart.com/search?q=iphone11'"
      ]
     },
     "execution_count": 25,
     "metadata": {},
     "output_type": "execute_result"
    }
   ],
   "source": [
    "flipkart_url"
   ]
  },
  {
   "cell_type": "code",
   "execution_count": null,
   "id": "d0cffeb1-dbb6-44f3-a0d7-18ae081d22f5",
   "metadata": {},
   "outputs": [],
   "source": [
    "uclint"
   ]
  },
  {
   "cell_type": "code",
   "execution_count": null,
   "id": "160173f8-1439-4ac1-9294-4aecc265613e",
   "metadata": {},
   "outputs": [],
   "source": []
  }
 ],
 "metadata": {
  "kernelspec": {
   "display_name": "Python 3 (ipykernel)",
   "language": "python",
   "name": "python3"
  },
  "language_info": {
   "codemirror_mode": {
    "name": "ipython",
    "version": 3
   },
   "file_extension": ".py",
   "mimetype": "text/x-python",
   "name": "python",
   "nbconvert_exporter": "python",
   "pygments_lexer": "ipython3",
   "version": "3.12.7"
  }
 },
 "nbformat": 4,
 "nbformat_minor": 5
}
